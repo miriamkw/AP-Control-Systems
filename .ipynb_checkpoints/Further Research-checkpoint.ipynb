{
 "cells": [
  {
   "cell_type": "markdown",
   "id": "088c376b",
   "metadata": {},
   "source": [
    "# Further Research\n",
    "\n",
    "AP systems keep getting more precise and advanced, but there is still room for improvements. Manual meal announcement as well as correction doses are still required for glucose control. The patients must frequently revisit their parameters and manually tune them, alone or with the help from a doctor. AP systems consist of several technical components that could improve in quality of software and hardware. \n",
    "\n",
    "The usage of collected data could be further extended. The individual parameters of a patient could be tuned automatically. Parameters will change during the lifetime of a patient, so for that to happen automatically would reduce the burden of diabetes. Also, smart devices like watches and rings tracking biometric data could be incorporated into AP systems to create a stronger basis for predicting insulin demands. This could also be done with a calendar, so that the AP systems knows when it is football practice and turn down the basal rate. AP systems are often making assumptions when modelling for example insulin absorption. Using collected data, this could also be adapted to the patients to enchance the performance of the controller. Tracking the menstrual cycle and adapt the insulin delivery could be useful for diabetic women. If the FDA approved simulators were extended to include more inputs such as biometric values that are common in smart watches or rings, that would facilitate the evolution of multi-input AP systems, and would allow for using for example reinforcement learning algorithms. When the algorithms further advance and the glucose levels are inside of an acceptable range, the carbohydrate counting should be switched out with for example a discrete meal announcement. \n",
    "\n",
    "It is not only the control algorithms that could be improved. The harware components could have an increased accuracy of glucose measurement and insulin delivery. Glucose measurements could also be changed to measure more frequently. Also, the components could be more portable. Insulin pumps are often large and bulky. Controlling from a smartphone is a huge advantage. Patch pumps, but also CGMs, should preferrable be able to use for example a smart watch as a controller unit, because it will always be inside of bluetooth range from the body, in contrast to a smart phone.  \n"
   ]
  }
 ],
 "metadata": {
  "kernelspec": {
   "display_name": "Python 3 (ipykernel)",
   "language": "python",
   "name": "python3"
  },
  "language_info": {
   "codemirror_mode": {
    "name": "ipython",
    "version": 3
   },
   "file_extension": ".py",
   "mimetype": "text/x-python",
   "name": "python",
   "nbconvert_exporter": "python",
   "pygments_lexer": "ipython3",
   "version": "3.9.13"
  }
 },
 "nbformat": 4,
 "nbformat_minor": 5
}
